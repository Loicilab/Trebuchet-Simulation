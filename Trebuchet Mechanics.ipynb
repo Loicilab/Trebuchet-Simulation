{
 "cells": [
  {
   "cell_type": "code",
   "execution_count": 2,
   "id": "706064be",
   "metadata": {},
   "outputs": [],
   "source": [
    "import numpy as np\n",
    "import matplotlib.pyplot as plt"
   ]
  },
  {
   "cell_type": "code",
   "execution_count": 150,
   "id": "e4f33a55",
   "metadata": {},
   "outputs": [],
   "source": [
    "g = 9.81\n",
    "\n",
    "def get_vel(L, H, M, m, S, ratio, Mw):\n",
    "    # This is a placeholder function\n",
    "    # Implement the function logic as needed\n",
    "    return 0  # Placeholder value\n",
    "\n",
    "def get_dist_no_drag(v0, alpha):\n",
    "    dist_no_drag = (np.sin(2 * alpha) * v0**2) / g\n",
    "    return dist_no_drag\n",
    "\n",
    "def get_dist_drag(v0, alpha, beta, m, r):\n",
    "    D = (0.47 * 1.225 * np.pi * r**2) / 2\n",
    "    delta_t = 0.01\n",
    "    a0 = np.radians(alpha + beta - 180)\n",
    "    x = 0\n",
    "    y = 0\n",
    "    x2 = 0\n",
    "    y2 = 0\n",
    "    t = 0\n",
    "    vx = v0 * np.cos(a0)\n",
    "    vy = v0 * np.sin(a0)\n",
    "    vx2 = v0 * np.cos(a0)\n",
    "    vy2 = v0 * np.sin(a0)\n",
    "    \n",
    "\n",
    "    time_values = []\n",
    "    x_values = []\n",
    "    y_values = []\n",
    "    x2_values = []\n",
    "    y2_values = []\n",
    "\n",
    "\n",
    "    N = 1000\n",
    "    tmax = N * delta_t\n",
    "\n",
    "    while t < tmax:\n",
    "        v = np.sqrt(vx**2 + vy**2)\n",
    "        drag = -(D/m) * (vx**2 + vy**2)\n",
    "        ax = drag * vx/v\n",
    "        ay = -g + drag * vy/v\n",
    "        ay2 = -g\n",
    "        \n",
    "        time_values.append(t)\n",
    "        x_values.append(x)\n",
    "        y_values.append(y)\n",
    "        x2_values.append(x2)\n",
    "        y2_values.append(y2)\n",
    "        \n",
    "        vx_new = vx + ax * delta_t\n",
    "        vy_new = vy + ay * delta_t\n",
    "        vy2_new = vy2 + ay2 * delta_t\n",
    "        vx2_new = vx2\n",
    "\n",
    "        x_new = x + vx * delta_t + 0.5 * ax * delta_t**2\n",
    "        y_new = y + vy * delta_t + 0.5 * ay * delta_t**2\n",
    "        x2_new = x2 + vx2 * delta_t\n",
    "        y2_new = y2 + vy2 * delta_t + 0.5 * ay2 * delta_t**2\n",
    "        \n",
    "        t += delta_t\n",
    "\n",
    "        if y >= 0:\n",
    "            x, y, vx, vy = x_new, y_new, vx_new, vy_new\n",
    "        elif y < 0:\n",
    "            dist_x = x\n",
    "        if y2 >= 0:\n",
    "            vx2, vy2, x2, y2 = vx2_new, vy2_new, x2_new, y2_new\n",
    "        elif y2 < 0:\n",
    "            dist_x2 = x2\n",
    "        \n",
    "            \n",
    "            \n",
    "    # Plotting\n",
    "    \n",
    "    plt.figure(figsize=(5, 6))\n",
    "\n",
    "    plt.subplot(2, 1, 1)\n",
    "    plt.plot(x_values, y_values)\n",
    "    plt.plot(x2_values, y2_values)\n",
    "    plt.title(\"Projectile Trajectory\")\n",
    "    plt.xlabel(\"X Position (m)\")\n",
    "    plt.ylabel(\"Y Position (m)\")\n",
    "\n",
    "    \n",
    "    max_x = max(x_values)\n",
    "    max_y = max(y_values)\n",
    "    max_y2 = max(y2_values)\n",
    "    max_x2 = max(x2_values)\n",
    "    max_xtot = max_x2\n",
    "    max_ytot = max(max_y,max_y2)\n",
    "    \n",
    "    print(dist_x,dist_x2)\n",
    "    \n",
    " \n",
    "    plt.xlim(0, max_xtot+0.1*max_xtot)\n",
    "    plt.ylim(0, max_ytot+0.1*max_ytot)\n",
    "\n",
    "    plt.show()  \n",
    "\n",
    "    return 0"
   ]
  },
  {
   "cell_type": "code",
   "execution_count": 158,
   "id": "f74b1f0e",
   "metadata": {},
   "outputs": [
    {
     "name": "stdout",
     "output_type": "stream",
     "text": [
      "25.492886917555985 153.34526269090023\n"
     ]
    },
    {
     "data": {
      "image/png": "[encoded data removed]",
      "text/plain": [
       "<Figure size 360x432 with 1 Axes>"
      ]
     },
     "metadata": {
      "needs_background": "light"
     },
     "output_type": "display_data"
    },
    {
     "name": "stdout",
     "output_type": "stream",
     "text": [
      "0\n"
     ]
    }
   ],
   "source": [
    "print(get_dist_drag(40, 100, 115, 0.057, 0.065))  "
   ]
  },
  {
   "cell_type": "code",
   "execution_count": null,
   "id": "6231d14d",
   "metadata": {},
   "outputs": [],
   "source": []
  },
  {
   "cell_type": "code",
   "execution_count": null,
   "id": "6e2794a5",
   "metadata": {},
   "outputs": [],
   "source": []
  }
 ],
 "metadata": {
  "kernelspec": {
   "display_name": "Python 3 (ipykernel)",
   "language": "python",
   "name": "python3"
  },
  "language_info": {
   "codemirror_mode": {
    "name": "ipython",
    "version": 3
   },
   "file_extension": ".py",
   "mimetype": "text/x-python",
   "name": "python",
   "nbconvert_exporter": "python",
   "pygments_lexer": "ipython3",
   "version": "3.9.7"
  }
 },
 "nbformat": 4,
 "nbformat_minor": 5
}
